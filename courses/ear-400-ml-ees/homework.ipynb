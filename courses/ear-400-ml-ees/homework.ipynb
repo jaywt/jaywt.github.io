{
 "cells": [
  {
   "cell_type": "raw",
   "metadata": {
    "vscode": {
     "languageId": "raw"
    }
   },
   "source": [
    "---\n",
    "title: \"Homework\"\n",
    "page-layout: full\n",
    "toc: false\n",
    "freeze: auto\n",
    "title-block-banner: false\n",
    "sidebar: course-ear-400-ml-ees\n",
    "---"
   ]
  },
  {
   "cell_type": "markdown",
   "metadata": {
    "vscode": {
     "languageId": "raw"
    }
   },
   "source": [
    "[{{< iconify ph:download-fill >}} Notebook](https://raw.githubusercontent.com/jaywt/jaywt.github.io/main/courses/ear-400-ml-ees/homework.ipynb){.btn target=_blank} [{{< iconify simple-icons:googlecolab >}} Open in Colab](https://colab.research.google.com/github/jaywt/jaywt.github.io/blob/main/courses/ear-400-ml-ees/homework.ipynb){.btn target=_blank}"
   ]
  },
  {
   "cell_type": "markdown",
   "metadata": {},
   "source": [
    "This course includes a total of ten sets of homework, each of which is worth 6% of course grade.\n",
    "\n",
    "All homework, including code, datasets, and outputs, should be submitted through Blackboard Ultra. To receive credit for the homework, the submitted codes must be ***executable without errors***. You will not receive points for codes that do not properly run. Homework will typically be posted on Sunday or Monday and will be due at 11:59 PM on the following Tuesday, giving you more than a full week to complete it.\n",
    "\n",
    "To ensure best in-person learning experience for SU students, please email Dr. Tao Wen if you would like to receive a copy of the homework for self-paced learning. In the email, please include your full name, institution, and your intended use of the homework."
   ]
  }
 ],
 "metadata": {
  "language_info": {
   "name": "python"
  }
 },
 "nbformat": 4,
 "nbformat_minor": 2
}
