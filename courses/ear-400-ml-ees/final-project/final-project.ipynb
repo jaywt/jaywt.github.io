{
 "cells": [
  {
   "cell_type": "raw",
   "metadata": {
    "vscode": {
     "languageId": "raw"
    }
   },
   "source": [
    "---\n",
    "title: \"Final Project\"\n",
    "page-layout: full\n",
    "toc: false\n",
    "freeze: auto\n",
    "title-block-banner: false\n",
    "sidebar: course-ear-400-ml-ees\n",
    "---"
   ]
  },
  {
   "cell_type": "markdown",
   "metadata": {
    "vscode": {
     "languageId": "raw"
    }
   },
   "source": [
    "[{{< iconify ph:download-fill >}} Notebook](https://raw.githubusercontent.com/jaywt/jaywt.github.io/main/courses/ear-400-ml-ees/final-project/final-project.ipynb){.btn target=_blank} [{{< iconify simple-icons:googlecolab >}} Open in Colab](https://colab.research.google.com/github/jaywt/jaywt.github.io/blob/main/courses/ear-400-ml-ees/final-project/final-project.ipynb){.btn target=_blank}"
   ]
  },
  {
   "cell_type": "markdown",
   "metadata": {},
   "source": [
    "The final project of this course includes two deliverables: a final project report and a presentation.\n",
    "\n",
    "This individual final project is designed to assess and apply the skills learned in this course. It is intended to be an assignment where you can choose a dataset (or multiple datasets) and gain insights from it. Students are expected to select datasets that interest them (e.g., remote sensing data, historical energy consumption data from various countries, the distribution of significant earthquakes, global river nutrient fluxes, etc.). Each student will clean their datasets, analyze and explore the data, create visualizations, train a machine learning model, and narrate a story (i.e., interpret the data). Students will submit their Jupyter notebooks that contain R codes and analyses plus text narratives (i.e., computational notebooks). You can find out some computational notebook examples at [this site](https://agu.curve.space){target=_blank}. Grading rubric for the final project report is available for downloading via [this link](./Narrative-Jupyter-notebooks_Rubric.xlsx){target=_blank}.\n",
    "\n",
    "Students will also present a very brief (~5-minute) lightning-talk style overview of their project to the class. Presentation duration is subject to change. Students are highly encouraged to consult with the instructor when selecting their project topics. Grading rubric for the lightning talk is available for downloading via [this link](./Lightning_Talk_Rubric.xlsx){target=_blank}.\n"
   ]
  }
 ],
 "metadata": {
  "language_info": {
   "name": "python"
  }
 },
 "nbformat": 4,
 "nbformat_minor": 2
}
