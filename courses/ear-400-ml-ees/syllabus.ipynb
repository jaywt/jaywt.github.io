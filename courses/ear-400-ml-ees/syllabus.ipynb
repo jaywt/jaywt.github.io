{
 "cells": [
  {
   "cell_type": "raw",
   "id": "42e07fb9",
   "metadata": {
    "vscode": {
     "languageId": "raw"
    }
   },
   "source": [
    "---\n",
    "title: \"Syllabus\"\n",
    "subtitle: \"EAR 400 - Machine Learning in Earth and Environmental Sciences\"\n",
    "page-layout: full\n",
    "toc: true\n",
    "freeze: auto\n",
    "title-block-banner: false\n",
    "sidebar: course-ear-400-ml-ees\n",
    "---"
   ]
  },
  {
   "cell_type": "markdown",
   "id": "767cfff1",
   "metadata": {},
   "source": [
    "[{{< iconify ph:download-fill >}} Notebook](https://raw.githubusercontent.com/jaywt/jaywt.github.io/main/courses/ear-400-ml-ees/syllabus.ipynb){.btn target=_blank} [{{< iconify simple-icons:googlecolab >}} Open in Colab](https://colab.research.google.com/github/jaywt/jaywt.github.io/blob/main/courses/ear-400-ml-ees/syllabus.ipynb){.btn target=_blank}"
   ]
  },
  {
   "cell_type": "markdown",
   "id": "30473151",
   "metadata": {},
   "source": [
    "*This syllabus is adapted from the Spring 2025 version. It gives the best indication of class work throughout the semester, but content and dates will vary and may change through the semester.*"
   ]
  },
  {
   "cell_type": "markdown",
   "id": "4b15f2a7",
   "metadata": {},
   "source": [
    "## Instructor\n",
    "\n",
    "* Tao Wen, Assistant Professor\n",
    "* Email: twen08@syr.edu\n",
    "* Office: 319B Heroy Geology Laboratory\n",
    "* Mailbox: 204 Heroy Geology Laboratory\n",
    "* Office Hours: By appointment\n",
    "\n",
    "## Class Time and Location\n",
    "* Tuesdays and Thursdays: 2:15 PM – 3:35 PM\n",
    "* Room 005 Heroy Geology Laboratory"
   ]
  },
  {
   "cell_type": "markdown",
   "id": "f20e0f31",
   "metadata": {},
   "source": [
    "## Textbook and Learning Materials\n",
    "\n",
    "* Required textbook\n",
    "  + **None**\n",
    "* Recommended textbook\n",
    "  + Garrett Grolemund, 2014, [*Hands-on programming with R*](https://rstudioeducation.github.io/hopr/){target=_blank}\n",
    "  + James et al., 2021, *An introduction to statistical learning with applications in R*\n",
    "  + Hadley Wickham, 2021, *`ggplot2`: elegant graphics for data analysis (https://ggplot2-book.org/)*\n",
    "  + For Deep Learning:\n",
    "    - Hands-on machine learning with Scikit-Learn, Keras and TensorFlow: concepts, tools, and techniques to build intelligent systems by Aurélien Géron\n",
    "    - Deep learning with R by Chollet et al.\n",
    "* A laptop computer is ***REQUIRED*** for all class sessions"
   ]
  },
  {
   "cell_type": "markdown",
   "id": "d9621037",
   "metadata": {},
   "source": [
    "## Course Website\n",
    "\n",
    "We will use [this website](https://jaywen.com/courses/ear-400-ml-ees/){target=_blank} and the [SU Blackboard](https://blackboard.syr.edu){target=_blank} to provide:\n",
    "\n",
    "* Updates to the lecture schedule and class materials including any lecture slides/notes\n",
    "* Posting of homework, handouts, and supplementary material\n",
    "\n",
    "Therefore, it is expected that students will regularly access these two websites, so **students are responsible for information posted on these two sites.**"
   ]
  },
  {
   "cell_type": "markdown",
   "id": "0c876458",
   "metadata": {},
   "source": [
    "## Course Topics and Student Learning Outcomes\n",
    "\n",
    "At this end of the course, students will be able to describe various concepts of programming, apply geospatial analysis and machine learning techniques to address real-world earth and environmental science questions, and interpret model outputs. The specific learning outcomes of the course are:\n",
    "\n",
    "* Read and write data using standard formats\n",
    "* Utilize modern coding environment R to perform scientific programing\n",
    "* Wrangle and explore data effectively\n",
    "* Perform advanced data visualization\n",
    "* Write efficient code to perform earth and environmental science data manipulation and geospatial analysis\n",
    "* Apply machine learning techniques to address real-world earth and environmental science questions\n",
    "* Design and complete a project using real-world data"
   ]
  },
  {
   "cell_type": "markdown",
   "id": "88fc49a1",
   "metadata": {},
   "source": [
    "## Grading\n",
    "\n",
    "* Your grade will be based on:\n",
    "  + Homework (60%): Ten sets of homework worth an average 6% each\n",
    "  + Class attendance/participation (5%): Evaluated by in-class coding exercise\n",
    "  + Final project (35%): 1) A computational Jupyter notebook (25%) and 2) a final project presentation (10%)\n",
    "  + ***No bonus or extra credits***\n",
    "  \n",
    "* Late homework will have 10% deducted from the final grade for each day that they are late and will not be accepted after graded assignments have been returned.\n",
    "* Students are encouraged to work with and talk to each other about homework, but all work handed in by each student must represent that student's own contribution. The instructor will follow all aspects of the university’s policies for academic integrity.\n",
    "* Grading-related questions: I recognize that you care about the score you receive in this class. However, there may be times where I may enter a wrong score in a grade book, or when you may wish to know more about why you received a certain grade. For grading related questions, I am using a 24-7 rule:\n",
    "  + Immediately after new grades are added, you must wait 24 hours before contacting me about your grade. This waiting period helps with hasty reactions.  I will not respond to any request made during this period.\n",
    "  + The deadline for appealing a grade is seven days after the grade is released in Blackboard. Please be sure to include any specifics in your email to me about your grade.\n",
    "\n",
    "* Letter Grades\n",
    "\n",
    "| Letter Grade | Minimum Percentage |\n",
    "|:------------:|:------------------:|\n",
    "| A            | 93%                |\n",
    "| A-           | 90%                |\n",
    "| B+           | 87%                |\n",
    "| B            | 83%                |\n",
    "| B-           | 80%                |\n",
    "| C+           | 77%                |\n",
    "| C            | 73%                |\n",
    "| C-           | 70%                |\n",
    "| D            | 60%                |\n",
    "| F            | 59% and below      |\n",
    "\n",
    "### Homework\n",
    "\n",
    "All homework, including code, datasets, and outputs, should be submitted through Blackboard Ultra. To receive credit for the homework, the submitted codes must be ***executable without errors***. You will not receive points for codes that do not properly run. Homework will typically be posted on Sunday or Monday and will be due at 11:59 PM on the following Tuesday, giving you more than a full week to complete it.\n",
    "\n",
    "\n",
    "### Final Project\n",
    "\n",
    "This individual final project is designed to assess and apply the skills learned in this course. It is intended to be an assignment where you can choose a dataset (or multiple datasets) and gain insights from it. Students are expected to select datasets that interest them (e.g., remote sensing data, historical energy consumption data from various countries, the distribution of significant earthquakes, global river nutrient fluxes, etc.). Each student will clean their datasets, analyze and explore the data, create visualizations, train a machine learning model, and narrate a story (i.e., interpret the data). Students will submit their Jupyter notebooks that contain R codes and analyses plus text narratives (i.e., computational notebooks). You can find out some computational notebook examples at [this site](https://agu.curve.space){target=_blank}. Students will also present a very brief (~5-minute) lightning-talk style overview of their project to the class. Presentation duration is subject to change. Students are highly encouraged to consult with the instructor when selecting their project topics."
   ]
  },
  {
   "cell_type": "markdown",
   "id": "75ea61ba",
   "metadata": {},
   "source": [
    "## Schedule\n",
    "\n",
    "*The schedule is **constantly evolving** and subject to change.*\n",
    "\n",
    "| **Week** | **Date** | **Module and Topic**                               | **Homework Due** |\n",
    "|----------|----------|----------------------------------------------------|------------------|\n",
    "| 1        | 1/14     | Module 1: Course intro and R basics                |                  |\n",
    "|          | 1/16     |                                                    |                  |\n",
    "| 2        | 1/21     |                                                    |                  |\n",
    "|          | 1/23     |                                                    |                  |\n",
    "| 3        | 1/28     | Module 2: Data frame and visualization             | hw01             |\n",
    "|          | 1/30     |                                                    |                  |\n",
    "| 4        | 2/4      |                                                    | hw02             |\n",
    "|          | 2/6      |                                                    |                  |\n",
    "| 5        | 2/11     | Module 3: Geospatial data analysis                 | hw03             |\n",
    "|          | 2/13     |                                                    |                  |\n",
    "| 6        | 2/18     |                                                    |                  |\n",
    "|          | 2/20     |                                                    |                  |\n",
    "| 7        | 2/25     | Module 4: Supervised machine learning              | hw04             |\n",
    "|          | 2/27     |                                                    |                  |\n",
    "| 8        | 3/4      |                                                    |                  |\n",
    "|          | 3/6      |                                                    |                  |\n",
    "| 9        | 3/11     | NO CLASS – Spring Break                            |                  |\n",
    "|          | 3/13     | NO CLASS – Spring Break                            |                  |\n",
    "| 10       | 3/18     | Guest speaker #1                                   | hw05             |\n",
    "|          | 3/20     | Module 4 continued                                 |                  |\n",
    "| 11       | 3/25     |                                                    | hw06             |\n",
    "|          | 3/27     |                                                    |                  |\n",
    "| 12       | 4/1      | Module 5: Unsupervised machine learning            | hw07             |\n",
    "|          | 4/3      |                                                    |                  |\n",
    "| 13       | 4/8      | Module 6: Deep learning                            | hw08             |\n",
    "|          | 4/10     |                                                    |                  |\n",
    "| 14       | 4/15     | Paper discussions and workshop sessions            | hw09             |\n",
    "|          | 4/17     |                                                    |                  |\n",
    "| 15       | 4/22     | Guest speaker #2                                   | hw10             |\n",
    "|          | 4/24     | Lightning Talk                                     |                  |\n",
    "| 16       | 5/6      | Final project report due Tuesday May 6 by 11:59 PM |                  |\n"
   ]
  },
  {
   "cell_type": "markdown",
   "id": "e1038bb6",
   "metadata": {},
   "source": [
    "## Important Course Policy Statements\n",
    "\n",
    "### Important Deadlines\n",
    "\n",
    "Add Deadline: Tuesday, January 21, 2025\n",
    "\n",
    "Academic/Financial Drop Deadline: Monday, February 3, 2025\n",
    "\n",
    "Withdrawal Deadline: Tuesday, April 15, 2025\n",
    "\n",
    "### Required Syllabus Language\n",
    "\n",
    "As a pre-eminent and inclusive student-focused research institution, Syracuse University considers academic integrity at the forefront of learning, serving as a core value and guiding pillar of education. Syracuse University’s Academic Integrity Policy provides students with the necessary guidelines to complete academic work with integrity throughout their studies. Students are required to uphold both course-specific and university-wide academic integrity expectations such as crediting your sources, doing your own work, communicating honestly, and supporting academic integrity. The full Syracuse University Academic Integrity Policy can be found by visiting class.syr/edu, selecting, “Academic Integrity,” and “Expectations and Policy.”\n",
    "\n",
    "Upholding Academic Integrity includes the protection of faculty’s intellectual property. Students should not upload, distribute, or share instructors’ course materials, including presentations, assignments, exams, or other evaluative materials without permission. Using websites that charge fees or require uploading of course material (e.g., Chegg, Course Hero) to obtain exam solutions or assignments completed by others, which are then presented as your own violates academic integrity expectations in this course and may be classified as a Level 3 violation. All academic integrity expectations that apply to in-person assignments, quizzes, and exams also apply online.\n",
    "\n",
    "Students found in violation of the policy are subject to grade sanctions determined by the course instructor and non-grade sanctions determined by the School or College where the course is offered. Students may not drop or withdraw from courses in which they face a suspected violation. Any established violation in this course may result in course failure regardless of violation level.\n",
    "\n",
    "### Artificial Intelligence Language\n",
    "\n",
    "Based on the assignments in this course and our specified learning outcomes, the full use of artificial intelligence as a tool, ***with disclosure and citation***, is permitted in this course. Students do not need to ask permission to use these tools before starting an assignment or exam, but they must explicitly and fully indicate which tools were used and describe how they were used.\n",
    "\n",
    "### Academic Integrity\n",
    "\n",
    "Syracuse University’s Academic Integrity Policy reflects the high value that we, as a university community, place on honesty in academic work. The policy defines our expectations for academic honesty and holds students accountable for the integrity of all work they submit. Students should understand that it is their responsibility to learn about course-specific expectations, as well as about university-wide academic integrity expectations. The policy governs appropriate citation and use of sources, the integrity of work submitted in exams and assignments, and the veracity of signatures on attendance sheets and other verification of participation in class activities. The policy also prohibits students from submitting the same work in more than one class without receiving written authorization in advance from both instructors. Under the policy, students found in violation are subject to grade sanctions determined by the course instructor and non-grade sanctions determined by the School or College where the course is offered as described in the Violation and Sanction Classification Rubric. Syracuse University students are required to read an online summary of the University’s academic integrity expectations and provide an electronic signature agreeing to abide by them twice a year during pre-term check- in on MySlice.\n",
    "\n",
    "The Violation and Sanction Classification Rubric establishes recommended guidelines for the determination of grade penalties by faculty and instructors, while also giving them discretion to select the grade penalty they believe most suitable, including course failure, regardless of violation level. Any established violation in this course may result in course failure regardless of violation level.\n",
    "\n",
    "All academic integrity expectations that apply to in-person quizzes and exams also apply to online quizzes and exams. In this course, all work submitted for quizzes and exams must be yours alone. ***Discussing quiz or exam questions with anyone during the quiz or exam period violates academic integrity expectations for this course.*** Using websites that charge fees or require uploading of course material (e.g., Chegg, Course Hero) to obtain exam solutions or assignments completed by others and present the work as your own violates academic integrity expectations in this course.\n",
    "\n",
    "### Copyright Infringement and Electronic Course Materials\n",
    "\n",
    "Notes and other information (such as exam reviews, exam questions, etc.) made available electronically through Blackboard or email are intended only for the use of students currently enrolled in this course and are not to be disseminated or posted to other websites. They are for the sole use of students currently enrolled in this class and may be subject to copyright. If you take materials provided for this class electronically and then post them to the web in return for monetary compensation, you may be violating copyright, particularly if you include images and PowerPoint slides provided by the professor.\n",
    "\n",
    "### Students in Need of Disability-Related Academic Accommodations\n",
    "\n",
    "Syracuse University values diversity and inclusion; we are committed to a climate of mutual respect and full participation.  There may be aspects of the instruction or design of this course that result in barriers to your inclusion and full participation in this course.  I invite any student to contact me to discuss strategies and/or accommodations (academic adjustments) that may be essential to your success and to collaborate with the Center for Disability Resources (CDR) in this process. If you would like to discuss disability-accommodations or register with CDR, please visit [Center for Disability Resources](https://disabilityservices.syr.edu/){target=_blank}. Please call (315) 443-4498 or email disabilityresources@syr.edu for more detailed information. The CDR is responsible for coordinating disability-related academic accommodations and will work with the student to develop an access plan. Academic accommodations, such as exam administration, are not provided retroactively; therefore, planning for accommodations as early as possible is necessary.\n",
    "\n",
    "### Faith Tradition Observances\n",
    "\n",
    "SU’s religious observances policy, found at [SU website](https://policies.syr.edu/policies/university-governance-ethics-integrity-and-legal-compliance/religious-observances-policy/){target=_blank}, recognizes the diversity of faiths represented in the campus community and protects the rights of students, faculty, and staff to observe religious holy days according to their tradition. Syracuse University does not set aside non-instructional days for any religious holiday. Students must notify instructors by the end of the second week of classes when they will be observing their religious holiday(s). Students will have access to an online notification form through MySlice for two weeks beginning on the first day of class. Once I have been notified of your intention to be absent for a religious observance, I will work with you directly to find a way to accommodate your absence.\n",
    "\n",
    "### Class Absences and Associated Missed Work\n",
    "\n",
    "Excuses for class absences for medical reasons will be given only if such absences are advised by a health care provider at the Health Center, based on clinical findings and prescribed treatment recommendations. Excused notes will not be given solely to confirm a visit to the Health Center. For complete details on excuse notes, visit this [[SU website]](https://ese.syr.edu/bewell/policies-and-procedures-barnes-center-at-the-arch-syracuse-university/){target=_blank}.\n",
    "\n",
    "### Diversity and Inclusion\n",
    "\n",
    "Syracuse University values diversity and inclusion; we are committed to a climate of mutual respect and full participation.  There may be aspects of the instruction or design of this course that result in barriers to your inclusion and full participation in this course.  I invite any student to contact me to discuss strategies and/or accommodations (academic adjustments) that may be essential to your success and to collaborate with the Center for Disability Resources (CDR) in this process.\n",
    "\n",
    "If you would like to discuss disability-accommodations or register with CDR, please visit [Center for Disability Resources](https://disabilityservices.syr.edu/){target=_blank}. Please call (315) 443-4498 or email disabilityresources@syr.edu for more detailed information.\n",
    "\n",
    "The CDR is responsible for coordinating disability-related academic accommodations and will work with the student to develop an access plan. Since academic accommodations may require early planning and generally are not provided retroactively, please contact CDR as soon as possible to begin this process.\n",
    "\n",
    "### Discrimination or Harassment\n",
    "\n",
    "The University does not discriminate and prohibits harassment or discrimination related to any protected category including creed, ethnicity, citizenship, sexual orientation, national origin, sex, gender, pregnancy, disability, marital status, age, race, color, veteran status, military status, religion, sexual orientation, domestic violence status, genetic information, gender identity, gender expression or perceived gender. Any complaint of discrimination or harassment related to any of these protected bases should be reported to Sheila Johnson-Willis, the University’s Chief Equal Opportunity & Title IX Officer. She is responsible for coordinating compliance efforts under various laws including Titles VI, VII, IX and Section 504 of the Rehabilitation Act. She can be contacted at Equal Opportunity, Inclusion, and Resolution Services, 005 Steele Hall, Syracuse University, Syracuse, NY 13244-1120; by email: titleix@syr.edu; or by telephone: 315-443-0211.\n",
    "\n",
    "### Educational Use of Student Work\n",
    "\n",
    "I intend to use academic work that you complete this semester for educational purposes in this course during this semester. Your registration and continued enrollment constitute your permission. I intend to use academic work that you complete this semester in subsequent semesters for educational purposes. Before using your work for that purpose, I will either get your written permission or render the work anonymous by removing identifying material."
   ]
  }
 ],
 "metadata": {
  "kernelspec": {
   "display_name": ".quarto_venv",
   "language": "python",
   "name": "python3"
  },
  "language_info": {
   "codemirror_mode": {
    "name": "ipython",
    "version": 3
   },
   "file_extension": ".py",
   "mimetype": "text/x-python",
   "name": "python",
   "nbconvert_exporter": "python",
   "pygments_lexer": "ipython3",
   "version": "3.9.6"
  }
 },
 "nbformat": 4,
 "nbformat_minor": 5
}
