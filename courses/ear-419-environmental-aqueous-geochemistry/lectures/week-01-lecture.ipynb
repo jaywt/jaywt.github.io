{
 "cells": [
  {
   "cell_type": "raw",
   "id": "42e07fb9",
   "metadata": {
    "vscode": {
     "languageId": "raw"
    }
   },
   "source": [
    "---\n",
    "title: \"Week 01\"\n",
    "subtitle: \"Course Logistics and Introduction\"\n",
    "page-layout: full\n",
    "sidebar: course-ear-419\n",
    "title-block-banner: true\n",
    "toc: true\n",
    "toc-expand: true\n",
    "format:\n",
    "  html: default\n",
    "  ipynb:\n",
    "    output-file: ear-419-week-01-lecture.ipynb\n",
    "---"
   ]
  },
  {
   "cell_type": "markdown",
   "id": "30473151",
   "metadata": {},
   "source": [
    "## Pre-class Prep\n",
    "\n",
    "Please be sure to read through the course [**syllabus**](/courses/ear-419-environmental-aqueous-geochemistry/week-01-lecture.ipynb) before class."
   ]
  }
 ],
 "metadata": {
  "kernelspec": {
   "display_name": ".quarto_venv",
   "language": "python",
   "name": "python3"
  },
  "language_info": {
   "codemirror_mode": {
    "name": "ipython",
    "version": 3
   },
   "file_extension": ".py",
   "mimetype": "text/x-python",
   "name": "python",
   "nbconvert_exporter": "python",
   "pygments_lexer": "ipython3",
   "version": "3.9.6"
  }
 },
 "nbformat": 4,
 "nbformat_minor": 5
}
