{
 "cells": [
  {
   "cell_type": "markdown",
   "id": "42e07fb9",
   "metadata": {
    "vscode": {
     "languageId": "raw"
    }
   },
   "source": [
    "---\n",
    "title: \"Lab 04\"\n",
    "subtitle: \"Advanced Data Analysis and Statistics\"\n",
    "page-layout: full\n",
    "toc: true\n",
    "freeze: auto\n",
    "title-block-banner: false\n",
    "sidebar: course-ear-419\n",
    "---"
   ]
  },
  {
   "cell_type": "markdown",
   "id": "e64e56ac",
   "metadata": {},
   "source": [
    "[{{< iconify ph:download-fill >}} Notebook](https://raw.githubusercontent.com/jaywt/jaywt.github.io/main/courses/ear-419-environmental-aqueous-geochemistry/labs/lab-04.ipynb){.btn target=_blank} [{{< iconify simple-icons:googlecolab >}} Open in Colab](https://colab.research.google.com/github/jaywt/jaywt.github.io/blob/main/courses/ear-419-environmental-aqueous-geochemistry/labs/lab-04.ipynb){.btn target=_blank}"
   ]
  },
  {
   "cell_type": "markdown",
   "id": "30473151",
   "metadata": {},
   "source": [
    "## Pre-lab Prep\n",
    "\n",
    "- To use the cloud computing platform [Google Colab](https://colab.research.google.com){target=_blank}, you need a Google account and access to Google Drive. SU students can use their @g.syr.edu account.\n",
    "- Students who are not familiar with Google Colab are strongly encouraged to watch this [quickview video](https://youtu.be/inN8seMm7UI?si=kAOG8o4G_6rM4FNA){target=_blank} and visit the [Google Colab](https://colab.research.google.com){target=_blank} website to navigate through __Welcome to Colab__, __Overview of Colab__, and __Guide to Markdown__"
   ]
  },
  {
   "cell_type": "markdown",
   "id": "c3391a12",
   "metadata": {},
   "source": [
    "## Lab Materials"
   ]
  },
  {
   "cell_type": "code",
   "execution_count": null,
   "id": "b3641609",
   "metadata": {
    "vscode": {
     "languageId": "r"
    }
   },
   "outputs": [],
   "source": [
    "###############################################################\n",
    "# Installing and Loading Packages\n",
    "###############################################################\n",
    "# Install all needed packages\n",
    "install.packages(\"dataRetrieval\")\n",
    "install.packages(\"dplyr\")\n",
    "install.packages(\"lubridate\")"
   ]
  },
  {
   "cell_type": "code",
   "execution_count": null,
   "id": "c88df438",
   "metadata": {
    "vscode": {
     "languageId": "r"
    }
   },
   "outputs": [],
   "source": [
    "# load these packages into the memory for later use\n",
    "library(dataRetrieval)\n",
    "library(dplyr)\n",
    "library(lubridate)"
   ]
  },
  {
   "cell_type": "code",
   "execution_count": null,
   "id": "2bcf1b20",
   "metadata": {
    "vscode": {
     "languageId": "r"
    }
   },
   "outputs": [],
   "source": [
    "###############################################################\n",
    "# Downloading Ca Time Series Data Using dataRetrieval package\n",
    "###############################################################\n",
    "# In the demo, the specific USGS site I am going to download Ca data for \n",
    "# has the site number 01391500\n",
    "# let's define a variable to store the site number\n",
    "siteid <- \"01391500\"\n",
    "\n",
    "# In Homework #9, you need to explore the Ca data for the other two sites:\n",
    "# 01111500 and 02336300\n",
    "\n",
    "# USGS encode all chemicals as numeric codes. Calcium's code is 00915\n",
    "parmCd <- \"00915\"\n",
    "\n",
    "# let's focus on Ca data collected from 1978 to 2018\n",
    "start.date = as.Date(\"1978-01-01\")\n",
    "end.date = as.Date(\"2019-01-01\")\n",
    "\n",
    "# download data and assigned downloaded data to a variable named \"Ca_demo_site\"\n",
    "Ca_demo_site <- readNWISqw(siteNumbers = siteid,\n",
    "                           parameterCd = parmCd,\n",
    "                           startDate = start.date,\n",
    "                           endDate = end.date,\n",
    "                           reshape = )\n",
    "\n",
    "# extract year, month, month-day info and add them into three columns\n",
    "Ca_demo_site$year <- year(Ca_demo_site$sample_dt)\n",
    "Ca_demo_site$month <- month(Ca_demo_site$sample_dt)\n",
    "Ca_demo_site$mday <- mday(Ca_demo_site$sample_dt)\n",
    "\n",
    "# Simplify the dataset by keeping only most essential columns\n",
    "Ca_demo_site <- Ca_demo_site[,c(\"site_no\", \"sample_dt\", \"year\", \"month\", \"mday\", \"result_va\")]\n",
    "\n",
    "# rename last column to make sense of it\n",
    "colnames(Ca_demo_site)[6] <- \"Ca_ppm\"\n",
    "\n",
    "# open this refined dataset to overview\n",
    "View(Ca_demo_site)\n",
    "\n",
    "# we can also save this dataset as a csv file for future use\n",
    "write.csv(Ca_demo_site, file = \"./Ca_demo_site.csv\", row.names = FALSE, na = \"\")\n",
    "\n",
    "# in the future, you can read this file by using read.csv function\n",
    "#read.csv(file = \"./Ca_demo_site.csv\", header = TRUE, na.strings = c(\"\", \"NA\"))\n"
   ]
  },
  {
   "cell_type": "code",
   "execution_count": null,
   "id": "5925c93e",
   "metadata": {
    "vscode": {
     "languageId": "r"
    }
   },
   "outputs": [],
   "source": [
    "###############################################################\n",
    "# Data Processing\n",
    "###############################################################\n",
    "\n",
    "#### Data overview\n",
    "# print out top 6 rows\n",
    "head(Ca_demo_site)\n",
    "\n",
    "# print out top 5 rows\n",
    "head(Ca_demo_site,5)\n",
    "\n",
    "# print out bottom 6 rows\n",
    "tail(Ca_demo_site)\n",
    "\n",
    "# print out the statistical summary of each column\n",
    "summary(Ca_demo_site)\n",
    "\n",
    "\n",
    "#### Index and subset\n",
    "# print out the cell that is row 2 and column 3.\n",
    "Ca_demo_site[2,3]\n",
    "# In the above example, first number indicates row number while the second number indicates column number\n",
    "\n",
    "# print out the 2nd row\n",
    "Ca_demo_site[2,]\n",
    "\n",
    "# print out the top 10 rows in the column of 'Ca_ppm'\n",
    "Ca_demo_site[1:10,\"Ca_ppm\"]\n",
    "\n",
    "# print out the column named 'site_no'\n",
    "Ca_demo_site$site_no\n",
    "\n",
    "# print out all rows whose column 'year' is larger than 2000\n",
    "Ca_demo_site[Ca_demo_site$year>=2000,]\n",
    "\n",
    "#### Column-wise and row-wise summary\n",
    "# print out the minimum value of column 'Ca_ppm'\n",
    "min(Ca_demo_site$Ca_ppm)\n",
    "\n",
    "# What is the max Ca concentration?\n",
    "# hint: use the fucntion max\n",
    "\n",
    "\n",
    "\n",
    "### Helpful Functions apply() and tapply()\n",
    "# We create a new data frame with 2 columns. First column contains 1, 2, and 3.\n",
    "# Second column contains 4, 5, and 6\n",
    "test_df <- data.frame(c1=c(1,2,3),c2=c(4,5,6))\n",
    "\n",
    "# How does 'apply' work? \n",
    "# Try to run '?apply'\n",
    "apply(test_df, 1, sum)\n",
    "apply(test_df, 2, sum)\n",
    "\n",
    "# Try to run '?tapply'\n",
    "tapply(Ca_demo_site$Ca_ppm, list(Ca_demo_site$year, Ca_demo_site$site_no), mean, na.rm=TRUE)"
   ]
  },
  {
   "cell_type": "code",
   "execution_count": null,
   "id": "a63fdd68",
   "metadata": {
    "vscode": {
     "languageId": "r"
    }
   },
   "outputs": [],
   "source": [
    "###############################################################\n",
    "# Data Visualization and Regression Analysis\n",
    "###############################################################\n",
    "\n",
    "# aggregate data by year\n",
    "Ca_annual_summary <- tapply(Ca_demo_site$Ca_ppm, Ca_demo_site$year, mean, na.rm=TRUE)\n",
    "Ca_annual_summary <- data.frame(year=as.numeric(names(Ca_annual_summary)), \n",
    "                                ca_annual=Ca_annual_summary)\n",
    "\n",
    "# plotting\n",
    "plot(x = Ca_annual_summary$year,\n",
    "     y = Ca_annual_summary$ca_annual,\n",
    "     xlab=\"Year\",\n",
    "     ylab=\"Annual Mean Ca Concentration (mg/L)\",\n",
    "     main=\"Temporal Trend of Annual Mean Ca Concentration 1978-2018\",\n",
    "     type=\"b\")\n",
    "\n",
    "# regression analysis\n",
    "abline(lm(ca_annual ~ year, data=Ca_annual_summary), col=2)\n",
    "summary(lm(ca_annual ~ year, data=Ca_annual_summary))\n",
    "\n",
    "# save the figure to pdf"
   ]
  },
  {
   "cell_type": "code",
   "execution_count": null,
   "id": "fe63a906",
   "metadata": {
    "vscode": {
     "languageId": "r"
    }
   },
   "outputs": [],
   "source": []
  },
  {
   "cell_type": "code",
   "execution_count": null,
   "id": "d1350d69",
   "metadata": {
    "vscode": {
     "languageId": "r"
    }
   },
   "outputs": [],
   "source": []
  },
  {
   "cell_type": "code",
   "execution_count": null,
   "id": "a0367380",
   "metadata": {
    "vscode": {
     "languageId": "r"
    }
   },
   "outputs": [],
   "source": []
  },
  {
   "cell_type": "code",
   "execution_count": null,
   "id": "83dca94f",
   "metadata": {
    "vscode": {
     "languageId": "r"
    }
   },
   "outputs": [],
   "source": []
  },
  {
   "cell_type": "markdown",
   "id": "7db1d99c",
   "metadata": {},
   "source": [
    "## Deliverables\n",
    "\n",
    "| Deliverables                                         |  Date Assigned  | Date Due                    |\n",
    "|:--------------------------------------------------|:----------------|-----------------------------|\n",
    "| Lab 04 ([refer to the SU Blackboard website](http://blackboard.syracuse.edu){target=_blank})     | Thur 10/24/2024 | Thur 10/31/2024, 12:30pm ET  |"
   ]
  }
 ],
 "metadata": {
  "kernelspec": {
   "display_name": ".quarto_venv",
   "language": "python",
   "name": "python3"
  },
  "language_info": {
   "codemirror_mode": {
    "name": "ipython",
    "version": 3
   },
   "file_extension": ".py",
   "mimetype": "text/x-python",
   "name": "python",
   "nbconvert_exporter": "python",
   "pygments_lexer": "ipython3",
   "version": "3.9.6"
  }
 },
 "nbformat": 4,
 "nbformat_minor": 5
}
