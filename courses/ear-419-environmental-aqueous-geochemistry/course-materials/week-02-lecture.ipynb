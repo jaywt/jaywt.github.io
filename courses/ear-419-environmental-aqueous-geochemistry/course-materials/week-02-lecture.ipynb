{
 "cells": [
  {
   "cell_type": "raw",
   "id": "42e07fb9",
   "metadata": {
    "vscode": {
     "languageId": "raw"
    }
   },
   "source": [
    "---\n",
    "title: \"Week 01 Lecture\"\n",
    "subtitle: \"Week 01\"\n",
    "page-layout: full\n",
    "sidebar: course-ear-419\n",
    "title-block-banner: true\n",
    "toc: true\n",
    "toc-expand: true\n",
    "format:\n",
    "  html: default\n",
    "  ipynb:\n",
    "    output-file: week-01-lecture.ipynb\n",
    "filters:\n",
    "  - webr\n",
    "---"
   ]
  },
  {
   "cell_type": "raw",
   "id": "907107c2",
   "metadata": {
    "vscode": {
     "languageId": "raw"
    }
   },
   "source": [
    "```{webr-r}\n",
    "plot(\n",
    "  mpg ~ wt,\n",
    "  data = mtcars,\n",
    "  col = \"blue\", \n",
    "  xlab = \"Miles/(US) gallon\",\n",
    "  ylab = \"Weight (1000 lbs)\",\n",
    "  main = \"Miles per Gallon and Weight of Cars\",\n",
    "  sub = \"Source: 1974 Motor Trend US magazine.\"\n",
    ")\n",
    "```"
   ]
  },
  {
   "cell_type": "markdown",
   "id": "30473151",
   "metadata": {},
   "source": [
    "Lecture 2: Chemistry and Chemical Reactions"
   ]
  },
  {
   "cell_type": "markdown",
   "id": "2d7c9b1b",
   "metadata": {},
   "source": []
  },
  {
   "cell_type": "markdown",
   "id": "9bc329cc",
   "metadata": {},
   "source": [
    "Oxidation state"
   ]
  },
  {
   "cell_type": "markdown",
   "id": "e987cd43",
   "metadata": {},
   "source": [
    "Number of electrons lost (or gained) by an element when forming an ion or chemical bond"
   ]
  },
  {
   "cell_type": "markdown",
   "id": "a3e58aba",
   "metadata": {},
   "source": []
  },
  {
   "cell_type": "markdown",
   "id": "3ebc43e9",
   "metadata": {},
   "source": [
    "Determining the oxidation state of an element in a compound:"
   ]
  },
  {
   "cell_type": "markdown",
   "id": "47209248",
   "metadata": {},
   "source": [
    "An element bonded to itself has an oxidation state of zero (supersedes the other rules)"
   ]
  },
  {
   "cell_type": "markdown",
   "id": "9738332f",
   "metadata": {},
   "source": [
    "Hydrogen (H) is always +1 "
   ]
  },
  {
   "cell_type": "markdown",
   "id": "6aa143a2",
   "metadata": {},
   "source": [
    "Oxygen (O) is always -2"
   ]
  },
  {
   "cell_type": "markdown",
   "id": "88fabe1f",
   "metadata": {},
   "source": [
    "The sum of the oxidation states of all elements in the compound must add up to the total charge on the compound"
   ]
  },
  {
   "cell_type": "markdown",
   "id": "d622c7cf",
   "metadata": {},
   "source": [
    "Examples: O2 gas, CO2, CH4, CH2O (organic matter), SeO42-"
   ]
  },
  {
   "cell_type": "markdown",
   "id": "33264a99",
   "metadata": {},
   "source": []
  },
  {
   "cell_type": "markdown",
   "id": "1bb790d1",
   "metadata": {},
   "source": [
    "Charge Balance"
   ]
  },
  {
   "cell_type": "markdown",
   "id": "4e8078c6",
   "metadata": {},
   "source": [
    "Water contains positively charged (cations) and negatively charged (anions) dissolved ions"
   ]
  },
  {
   "cell_type": "markdown",
   "id": "9e53a49c",
   "metadata": {},
   "source": [
    "Charge balance – Positive and negative charges must cancel each other out"
   ]
  },
  {
   "cell_type": "markdown",
   "id": "e9036f25",
   "metadata": {},
   "source": [
    "Solute charge is represented in terms of equivalents per volume (e.g., eq/L or meq/L for milliequivalents per liter)"
   ]
  },
  {
   "cell_type": "markdown",
   "id": "f21b24b0",
   "metadata": {},
   "source": [
    "eq/L = mol/L x solute charge"
   ]
  },
  {
   "cell_type": "markdown",
   "id": "b1480378",
   "metadata": {},
   "source": []
  },
  {
   "cell_type": "markdown",
   "id": "1dd308b6",
   "metadata": {},
   "source": [
    "Unit Conversion"
   ]
  },
  {
   "cell_type": "markdown",
   "id": "d9e73beb",
   "metadata": {},
   "source": []
  },
  {
   "cell_type": "markdown",
   "id": "05bd076e",
   "metadata": {},
   "source": [
    "One of the most important skills you will ever learn is how to convert between different units."
   ]
  },
  {
   "cell_type": "markdown",
   "id": "f35cb436",
   "metadata": {},
   "source": []
  },
  {
   "cell_type": "markdown",
   "id": "d60eb04f",
   "metadata": {},
   "source": [
    "Examples:"
   ]
  },
  {
   "cell_type": "markdown",
   "id": "004990c5",
   "metadata": {},
   "source": [
    "What is the molarity (mol L-1) of Mg2+ in a solution prepared as 50 mg L-1 MgCl2·6H2O? "
   ]
  },
  {
   "cell_type": "markdown",
   "id": "bd5f6719",
   "metadata": {},
   "source": [
    "What is the molarity (mol L-1) of Cl- in a solution prepared as 50 mg L-1 MgCl2·6H2O? "
   ]
  },
  {
   "cell_type": "markdown",
   "id": "362f76df",
   "metadata": {},
   "source": [
    "First, what is the molecular mass (g/mol) of MgCl2-6H2O?  203.31 g/mol"
   ]
  },
  {
   "cell_type": "markdown",
   "id": "1fd54f6b",
   "metadata": {},
   "source": [
    "(50 mg MgCl2-6H2O / L)(1 g / 1000 mg)(1 mol MgCl2-6H2O / 203.31 g MgCl2-6H2O)(1 mol Mg / 1 mol MgCl2-6H2O) = 2.5 x 10^-4 mol/L"
   ]
  },
  {
   "cell_type": "markdown",
   "id": "a74aa7d0",
   "metadata": {},
   "source": [
    "(50 mg MgCl2-6H2O / L)(1 g / 1000 mg)(1 mol MgCl2-6H2O / 203.31 g MgCl2-6H2O)(2 mol Cl / 1 mol MgCl2-6H2O) = 4.9 x 10^-4 mol/L"
   ]
  },
  {
   "cell_type": "markdown",
   "id": "99c0b5e1",
   "metadata": {},
   "source": [
    "Are these charge balanced? Yes! Cl- has one equivalent per mol (eq/mol) and Mg2+ has two equivalents per mol."
   ]
  },
  {
   "cell_type": "markdown",
   "id": "5b991927",
   "metadata": {},
   "source": [
    "(4.9 x 10-4 mol/L Cl-) x (1 eq/mol) = 4.9 x 10-4 eq/L"
   ]
  },
  {
   "cell_type": "markdown",
   "id": "2aec6432",
   "metadata": {},
   "source": [
    "(2.5 x 10-4 mol/L Mg2+) x (2 eq/mol) = 4.9 x 10-4 eq/L"
   ]
  },
  {
   "cell_type": "markdown",
   "id": "103c286b",
   "metadata": {},
   "source": [
    "*note that the 2.5 and 4.9 are rounded, so it’s actually like 2.45 "
   ]
  },
  {
   "cell_type": "markdown",
   "id": "b85553a7",
   "metadata": {},
   "source": []
  },
  {
   "cell_type": "markdown",
   "id": "b82dab0e",
   "metadata": {},
   "source": [
    "Geochemical Models"
   ]
  },
  {
   "cell_type": "markdown",
   "id": "46810623",
   "metadata": {},
   "source": []
  },
  {
   "cell_type": "markdown",
   "id": "0700dd7b",
   "metadata": {},
   "source": [
    "Steps to build a model:"
   ]
  },
  {
   "cell_type": "markdown",
   "id": "c7aec8d5",
   "metadata": {},
   "source": [
    "Define the system"
   ]
  },
  {
   "cell_type": "markdown",
   "id": "b7b9b656",
   "metadata": {},
   "source": [
    "Define the identity and quantity of the constituents (reactants and products) in the system"
   ]
  },
  {
   "cell_type": "markdown",
   "id": "95bc69bc",
   "metadata": {},
   "source": [
    "Write a balanced equation for the chemical reaction of interest"
   ]
  },
  {
   "cell_type": "markdown",
   "id": "7f40107f",
   "metadata": {},
   "source": []
  },
  {
   "cell_type": "markdown",
   "id": "bf03232a",
   "metadata": {},
   "source": [
    "Define the system"
   ]
  },
  {
   "cell_type": "markdown",
   "id": "f472634e",
   "metadata": {},
   "source": [
    "Closed System – composition is fixed; no mass transfer (box)"
   ]
  },
  {
   "cell_type": "markdown",
   "id": "619c7808",
   "metadata": {},
   "source": [
    "Open System – mass can enter and leave the system via fluxes (box + arrows)"
   ]
  },
  {
   "cell_type": "markdown",
   "id": "95b12da5",
   "metadata": {},
   "source": [
    "Define the constituents"
   ]
  },
  {
   "cell_type": "markdown",
   "id": "62751dda",
   "metadata": {},
   "source": [
    "Example constituents (ensure they are expressed in comparable units)"
   ]
  },
  {
   "cell_type": "markdown",
   "id": "e57fe4d6",
   "metadata": {},
   "source": [
    "Water"
   ]
  },
  {
   "cell_type": "markdown",
   "id": "11d8411a",
   "metadata": {},
   "source": [
    "Minerals  "
   ]
  },
  {
   "cell_type": "markdown",
   "id": "87ed29ff",
   "metadata": {},
   "source": [
    "Gases (defined by their partial pressure)"
   ]
  },
  {
   "cell_type": "markdown",
   "id": "1b72f442",
   "metadata": {},
   "source": [
    "Solutes (defined by their concentration; e.g., mass/volume)"
   ]
  },
  {
   "cell_type": "markdown",
   "id": "d44b3363",
   "metadata": {},
   "source": [
    "Write a balanced equation for the chemical reaction of interest"
   ]
  },
  {
   "cell_type": "markdown",
   "id": "fe7dde53",
   "metadata": {},
   "source": [
    "Reactants  Products\t\taA + bB  cC + dD"
   ]
  },
  {
   "cell_type": "markdown",
   "id": "15fc6b3e",
   "metadata": {},
   "source": [
    "Start with an unbalanced equation of reactants and products"
   ]
  },
  {
   "cell_type": "markdown",
   "id": "376ce317",
   "metadata": {},
   "source": [
    "Make an element inventory "
   ]
  },
  {
   "cell_type": "markdown",
   "id": "b356c1e2",
   "metadata": {},
   "source": [
    "Adjust the numbers in front of the reactants and products until balanced on either side of the arrow"
   ]
  },
  {
   "cell_type": "markdown",
   "id": "cf21bc6d",
   "metadata": {},
   "source": [
    " Assuming the reaction takes place with water as a solvent, add H+, OH- and H2O as needed to balance the equation (but only if H2O participates in the reaction)"
   ]
  },
  {
   "cell_type": "markdown",
   "id": "5e040e7f",
   "metadata": {},
   "source": [
    " Double check for mass balance and charge balance!"
   ]
  },
  {
   "cell_type": "markdown",
   "id": "42e77a0a",
   "metadata": {},
   "source": []
  },
  {
   "cell_type": "markdown",
   "id": "42051275",
   "metadata": {},
   "source": [
    "Examples:"
   ]
  },
  {
   "cell_type": "markdown",
   "id": "e6e7a83f",
   "metadata": {},
   "source": [
    "NaCl --> (in water)  Na+ + Cl-"
   ]
  },
  {
   "cell_type": "markdown",
   "id": "c399a55b",
   "metadata": {},
   "source": [
    "MgCl2  (in water) Mg(2+) + 2 Cl(-)"
   ]
  },
  {
   "cell_type": "markdown",
   "id": "a1fea803",
   "metadata": {},
   "source": [
    "Fe(3+) + H2O  FeOOH (then balance the elements…) Fe(3+) + 2 H2O  FeOOH + 3 H+"
   ]
  },
  {
   "cell_type": "markdown",
   "id": "f5bd814c",
   "metadata": {},
   "source": []
  },
  {
   "cell_type": "markdown",
   "id": "88d96665",
   "metadata": {},
   "source": [
    "Chemical Reactions"
   ]
  },
  {
   "cell_type": "markdown",
   "id": "1bb7ccd9",
   "metadata": {},
   "source": [
    "Types of chemical reactions"
   ]
  },
  {
   "cell_type": "markdown",
   "id": "bf5af5a0",
   "metadata": {},
   "source": [
    "Dissolution/precipitation"
   ]
  },
  {
   "cell_type": "markdown",
   "id": "53de7593",
   "metadata": {},
   "source": [
    "Acid-base "
   ]
  },
  {
   "cell_type": "markdown",
   "id": "a30ff2a4",
   "metadata": {},
   "source": [
    "Adsorption/desorption"
   ]
  },
  {
   "cell_type": "markdown",
   "id": "0ba60b3c",
   "metadata": {},
   "source": [
    "Oxidation-reduction (redox)"
   ]
  },
  {
   "cell_type": "markdown",
   "id": "3c0327d2",
   "metadata": {},
   "source": [
    "*reactions can be more than one type"
   ]
  },
  {
   "cell_type": "markdown",
   "id": "e9784fea",
   "metadata": {},
   "source": []
  },
  {
   "cell_type": "markdown",
   "id": "e3cbff39",
   "metadata": {},
   "source": [
    "Dissolution reaction: \tAνABνB (s)  νAAqA (aq) + νBBqB (aq)"
   ]
  },
  {
   "cell_type": "markdown",
   "id": "5e5407da",
   "metadata": {},
   "source": [
    "A – element"
   ]
  },
  {
   "cell_type": "markdown",
   "id": "29d6d959",
   "metadata": {},
   "source": [
    "νA – stoichiometric amount of A"
   ]
  },
  {
   "cell_type": "markdown",
   "id": "a6d9107a",
   "metadata": {},
   "source": [
    "qA – charge on the ion A"
   ]
  },
  {
   "cell_type": "markdown",
   "id": "5010cc5d",
   "metadata": {},
   "source": [
    "Examples:"
   ]
  },
  {
   "cell_type": "markdown",
   "id": "67cc7861",
   "metadata": {},
   "source": [
    "NaCl(s)  Na + Cl"
   ]
  },
  {
   "cell_type": "markdown",
   "id": "aa0cfbab",
   "metadata": {},
   "source": [
    "CaCO3 (s) + CO2 + H2O  Ca + HCO3-"
   ]
  },
  {
   "cell_type": "markdown",
   "id": "23bfbfc9",
   "metadata": {},
   "source": []
  },
  {
   "cell_type": "markdown",
   "id": "d55311d9",
   "metadata": {},
   "source": [
    "Precipitation reaction: \tνAAqA (aq) + νBBqB (aq)  AνABνB (s) "
   ]
  },
  {
   "cell_type": "markdown",
   "id": "8b700895",
   "metadata": {},
   "source": [
    "Examples:"
   ]
  },
  {
   "cell_type": "markdown",
   "id": "43ab2010",
   "metadata": {},
   "source": [
    "Ca2+(aq) + SO42- (aq) + H2O  gypsum"
   ]
  },
  {
   "cell_type": "markdown",
   "id": "ce863398",
   "metadata": {},
   "source": []
  },
  {
   "cell_type": "markdown",
   "id": "8a9f18ba",
   "metadata": {},
   "source": [
    "Acid-base reaction:\tHA + B  A- + HB+"
   ]
  },
  {
   "cell_type": "markdown",
   "id": "f549008f",
   "metadata": {},
   "source": []
  },
  {
   "cell_type": "markdown",
   "id": "6fa245f2",
   "metadata": {},
   "source": [
    "Brønsted-Lowry definition: transfer of a proton from an acid (the proton donor) to a base (the proton acceptor)"
   ]
  },
  {
   "cell_type": "markdown",
   "id": "0efe8b05",
   "metadata": {},
   "source": []
  },
  {
   "cell_type": "markdown",
   "id": "0189def6",
   "metadata": {},
   "source": [
    "Examples (which are the acid, base, conjugate acid, conjugate base?)"
   ]
  },
  {
   "cell_type": "markdown",
   "id": "e962d3c6",
   "metadata": {},
   "source": [
    "HCl + H2O  Cl- + H3O+"
   ]
  },
  {
   "cell_type": "markdown",
   "id": "50f79335",
   "metadata": {},
   "source": [
    "NH3 + H2O  NH4+ + OH-"
   ]
  },
  {
   "cell_type": "markdown",
   "id": "78010d6f",
   "metadata": {},
   "source": [
    "CaCO3 + H2SO4  H2CO3 + Ca2+ + SO42-"
   ]
  },
  {
   "cell_type": "markdown",
   "id": "17b30f1a",
   "metadata": {},
   "source": []
  },
  {
   "cell_type": "markdown",
   "id": "936577a4",
   "metadata": {},
   "source": [
    "Surface complexation reactions"
   ]
  },
  {
   "cell_type": "markdown",
   "id": "85bc3aab",
   "metadata": {},
   "source": [
    "Adsorption – the adhesion of a substance (e.g., solute) onto a surface"
   ]
  },
  {
   "cell_type": "markdown",
   "id": "c5335c5f",
   "metadata": {},
   "source": [
    "Desorption – the release of a substance from a surface into solution"
   ]
  },
  {
   "cell_type": "markdown",
   "id": "c2e1aacd",
   "metadata": {},
   "source": []
  },
  {
   "cell_type": "markdown",
   "id": "b9c4d7c0",
   "metadata": {},
   "source": [
    "\t≡S-O- + H+  ≡S-OH\t\t≡S-OH + H+  ≡S-OH2+"
   ]
  },
  {
   "cell_type": "markdown",
   "id": "b3d84453",
   "metadata": {},
   "source": []
  },
  {
   "cell_type": "markdown",
   "id": "73cdfcfd",
   "metadata": {},
   "source": [
    "\t≡S-K+ + H+  ≡S-H+ + K+"
   ]
  },
  {
   "cell_type": "markdown",
   "id": "37726046",
   "metadata": {},
   "source": []
  },
  {
   "cell_type": "markdown",
   "id": "7ba92316",
   "metadata": {},
   "source": [
    "Inner-sphere complex – ion forms a chemical bond with the surface at a specific site"
   ]
  },
  {
   "cell_type": "markdown",
   "id": "e669883c",
   "metadata": {},
   "source": [
    "Outer-sphere complex – electrostatic interaction between ion and charged surface; ion remains in hydration shell"
   ]
  },
  {
   "cell_type": "markdown",
   "id": "64a6d40e",
   "metadata": {},
   "source": []
  },
  {
   "cell_type": "markdown",
   "id": "1400ceb2",
   "metadata": {},
   "source": [
    "Redox (oxidation-reduction) reactions"
   ]
  },
  {
   "cell_type": "markdown",
   "id": "5782f9b2",
   "metadata": {},
   "source": [
    "Transfer of electrons from e- donor (reducing agent) to e- acceptor (oxidizing agent)"
   ]
  },
  {
   "cell_type": "markdown",
   "id": "59dab887",
   "metadata": {},
   "source": [
    "OILRIG – oxidation is loss, reduction is gain"
   ]
  },
  {
   "cell_type": "markdown",
   "id": "9494a00c",
   "metadata": {},
   "source": []
  },
  {
   "cell_type": "markdown",
   "id": "00f0960d",
   "metadata": {},
   "source": [
    "Oxidation half reaction: A0  A+ + e-\t\tReduction half reaction: B0 + e-  B-"
   ]
  },
  {
   "cell_type": "markdown",
   "id": "91ccad0d",
   "metadata": {},
   "source": []
  },
  {
   "cell_type": "markdown",
   "id": "f34dbe6b",
   "metadata": {},
   "source": []
  },
  {
   "cell_type": "markdown",
   "id": "be588eb8",
   "metadata": {},
   "source": []
  },
  {
   "cell_type": "markdown",
   "id": "bf3e0b77",
   "metadata": {},
   "source": []
  },
  {
   "cell_type": "markdown",
   "id": "85a32441",
   "metadata": {},
   "source": []
  }
 ],
 "metadata": {
  "kernelspec": {
   "display_name": ".quarto_venv",
   "language": "python",
   "name": "python3"
  },
  "language_info": {
   "codemirror_mode": {
    "name": "ipython",
    "version": 3
   },
   "file_extension": ".py",
   "mimetype": "text/x-python",
   "name": "python",
   "nbconvert_exporter": "python",
   "pygments_lexer": "ipython3",
   "version": "3.9.6"
  }
 },
 "nbformat": 4,
 "nbformat_minor": 5
}
